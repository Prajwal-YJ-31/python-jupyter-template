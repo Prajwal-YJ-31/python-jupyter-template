{
 "cells": [
  {
   "cell_type": "markdown",
   "metadata": {},
   "source": [
    "### Exercise 5: Subplot Layout"
   ]
  },
  {
   "cell_type": "code",
   "execution_count": null,
   "metadata": {},
   "outputs": [],
   "source": [
    "# TASK: Create a 2x2 subplot layout.\n",
    "# Plot a line chart in the first subplot, a bar chart in the second, a scatter plot in the third, and a pie chart in the fourth.\n",
    "import matplotlib.pyplot as plt\n",
    "import numpy as np\n",
    "\n",
    "# Create a figure with a 2x2 layout\n",
    "fig, axs = plt.subplots(2, 2, figsize=(10, 8))\n",
    "\n",
    "# 1st Subplot: Line Chart\n",
    "x = np.linspace(0, 10, 100)\n",
    "y = np.sin(x)\n",
    "axs[0, 0].plot(x, y, color='blue', linewidth=2)\n",
    "axs[0, 0].set_title(\"Line Chart\")\n",
    "axs[0, 0].set_xlabel(\"X-axis\")\n",
    "axs[0, 0].set_ylabel(\"Y-axis\")\n",
    "axs[0, 0].grid(True)\n",
    "\n",
    "# 2nd Subplot: Bar Chart\n",
    "categories = ['A', 'B', 'C', 'D']\n",
    "values = [5, 7, 3, 9]\n",
    "axs[0, 1].bar(categories, values, color=['red', 'blue', 'green', 'orange'])\n",
    "axs[0, 1].set_title(\"Bar Chart\")\n",
    "axs[0, 1].set_xlabel(\"Categories\")\n",
    "axs[0, 1].set_ylabel(\"Values\")\n",
    "axs[0, 1].grid(axis='y', linestyle='--', alpha=0.6)\n",
    "\n",
    "# 3rd Subplot: Scatter Plot\n",
    "x = [1, 2, 3, 4, 5]\n",
    "y = [2, 4, 6, 8, 10]\n",
    "axs[1, 0].scatter(x, y, color='purple', marker='o')\n",
    "axs[1, 0].set_title(\"Scatter Plot\")\n",
    "axs[1, 0].set_xlabel(\"X-axis\")\n",
    "axs[1, 0].set_ylabel(\"Y-axis\")\n",
    "axs[1, 0].grid(True, linestyle='--', alpha=0.6)\n",
    "\n",
    "# 4th Subplot: Pie Chart\n",
    "labels = ['Python', 'Java', 'C++', 'JavaScript']\n",
    "sizes = [40, 25, 20, 15]\n",
    "axs[1, 1].pie(sizes, labels=labels, autopct='%1.1f%%', colors=['blue', 'red', 'green', 'orange'], startangle=140, wedgeprops={'edgecolor': 'black'})\n",
    "axs[1, 1].set_title(\"Pie Chart\")\n",
    "\n",
    "# Adjust layout for better display\n",
    "plt.tight_layout()\n",
    "plt.show()"
   ]
  }
 ],
 "metadata": {
  "language_info": {
   "name": "python"
  }
 },
 "nbformat": 4,
 "nbformat_minor": 2
}
