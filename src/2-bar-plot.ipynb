{
 "cells": [
  {
   "cell_type": "markdown",
   "metadata": {},
   "source": [
    "### Exercise 2: Bar Plot with Colors"
   ]
  },
  {
   "cell_type": "code",
   "execution_count": null,
   "metadata": {},
   "outputs": [],
   "source": [
    "# TASK: Create a bar plot with the following data: categories = ['A', 'B', 'C', 'D'] and values = [5, 7, 3, 9].\n",
    "# Use different colors for each bar and add a title to the plot.\n",
    "import matplotlib.pyplot as plt\n",
    "\n",
    "# Data\n",
    "categories = ['A', 'B', 'C', 'D']\n",
    "values = [5, 7, 3, 9]\n",
    "colors = ['red', 'blue', 'green', 'orange']  # Different colors for each bar\n",
    "\n",
    "# Create the bar plot\n",
    "plt.bar(categories, values, color=colors)\n",
    "\n",
    "# Customizations\n",
    "plt.title(\"Bar Plot of Categories\")  # Title\n",
    "plt.xlabel(\"Categories\")  # X-axis label\n",
    "plt.ylabel(\"Values\")  # Y-axis label\n",
    "plt.grid(axis='y', linestyle='--', alpha=0.6)  # Grid for better readability\n",
    "\n",
    "# Show the plot\n",
    "plt.show()"
   ]
  }
 ],
 "metadata": {
  "language_info": {
   "name": "python"
  }
 },
 "nbformat": 4,
 "nbformat_minor": 2
}
