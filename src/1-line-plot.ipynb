{
 "cells": [
  {
   "cell_type": "markdown",
   "metadata": {},
   "source": [
    "### Exercise 1: Line Plot Customization"
   ]
  },
  {
   "cell_type": "code",
   "execution_count": null,
   "metadata": {},
   "outputs": [],
   "source": [
    "# TASK: Create a line plot with x values ranging from 0 to 10 and y values as the square of x.\n",
    "# Customize the plot by adding a title, labels for both axes, and a grid.\n",
    "import numpy as np\n",
    "import matplotlib.pyplot as plt\n",
    "\n",
    "# Generate x values from 0 to 10\n",
    "x = np.linspace(0, 10, 100)\n",
    "y = x ** 2  # Square of x\n",
    "\n",
    "# Create the plot\n",
    "plt.plot(x, y, label='y = x²', color='b', linewidth=2)\n",
    "\n",
    "# Customizations\n",
    "plt.title(\"Line Plot of y = x²\")  # Title\n",
    "plt.xlabel(\"X-axis\")  # X-axis label\n",
    "plt.ylabel(\"Y-axis\")  # Y-axis label\n",
    "plt.grid(True, linestyle='--', alpha=0.6)  # Grid with dashed lines\n",
    "plt.legend()  # Show legend\n",
    "\n",
    "# Show the plot\n",
    "plt.show()"
   ]
  }
 ],
 "metadata": {
  "language_info": {
   "name": "python"
  }
 },
 "nbformat": 4,
 "nbformat_minor": 2
}
